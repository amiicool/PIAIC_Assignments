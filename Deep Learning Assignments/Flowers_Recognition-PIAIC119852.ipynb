{
 "cells": [
  {
   "cell_type": "markdown",
   "metadata": {
    "id": "BXgJ6uT1NydQ"
   },
   "source": [
    "Assignment: Flowers Recognition <br>\n",
    "Dataset Description:<br>\n",
    "\n",
    "This dataset contains 4242 images of flowers.<br>\n",
    "The data collection is based on the data flicr, google images, yandex images.<br>\n",
    "You can use this datastet to recognize plants from the photo.<br>\n",
    "\n",
    "Attribute Information:<br>\n",
    "The pictures are divided into five classes: chamomile, tulip, rose, sunflower, dandelion.<br>\n",
    "For each class there are about 800 photos. Photos are not high resolution, about 320x240 pixels. <br>\n",
    "<b>Also explore how to resize images in tensorflow and then resize all the images to a same size. </b> <br>\n",
    "This is a Multiclass Classification Problem.<br>\n",
    "\n",
    "\n"
   ]
  },
  {
   "cell_type": "markdown",
   "metadata": {
    "id": "T7vy-ktuOKJH"
   },
   "source": [
    "WORKFLOW : <br>\n",
    "Load Data <br>\n",
    "Split into 60 and 40 ratio.<br>\n",
    "Encode labels.<br>\n",
    "Create Model<br>\n",
    "Compilation Step (Note : Its a Multiclass Classification problem , select loss , metrics according to it)<br>\n",
    "Train the Model.<br>\n",
    "If the model gets overfit tune your model by changing the units , No. of layers , epochs , add dropout layer or add Regularizer according to the need .<br>\n",
    "Prediction should be > 85%<br>\n",
    "Evaluation Step<br>\n",
    "Prediction<br>\n",
    "\n",
    "\n"
   ]
  },
  {
   "cell_type": "markdown",
   "metadata": {
    "id": "ri3Bg5qfPRic"
   },
   "source": [
    "Data : <br>\n",
    "https://drive.google.com/file/d/1-OX6wn5gA-bJpjPNfSyaYQLz-A-AB_uj/view?usp=sharing"
   ]
  },
  {
   "cell_type": "code",
   "execution_count": 1,
   "metadata": {
    "id": "hTtg3WuGTA1o"
   },
   "outputs": [],
   "source": [
    "import pandas as pd\n",
    "import numpy as np\n",
    "import os\n",
    "import matplotlib.pyplot as plt\n",
    "from PIL import Image\n",
    "from keras.preprocessing.image import load_img\n",
    "from keras.preprocessing.image import img_to_array\n",
    "import tensorflow as tf\n",
    "from tensorflow import keras\n",
    "from keras.models import Sequential\n",
    "from keras.layers import Dense, Flatten, Conv2D, MaxPooling2D, Dropout, BatchNormalization, Activation\n",
    "from tensorflow.keras import layers\n",
    "from keras.utils import to_categorical"
   ]
  },
  {
   "cell_type": "markdown",
   "metadata": {},
   "source": [
    "# Test to load and Resize file"
   ]
  },
  {
   "cell_type": "code",
   "execution_count": 2,
   "metadata": {},
   "outputs": [],
   "source": [
    "# New size of picture\n",
    "p = 64"
   ]
  },
  {
   "cell_type": "code",
   "execution_count": 3,
   "metadata": {},
   "outputs": [
    {
     "data": {
      "text/plain": [
       "<matplotlib.image.AxesImage at 0x25106306340>"
      ]
     },
     "execution_count": 3,
     "metadata": {},
     "output_type": "execute_result"
    },
    {
     "data": {
      "image/png": "[encoded data removed]",
      "text/plain": [
       "<Figure size 432x288 with 1 Axes>"
      ]
     },
     "metadata": {
      "needs_background": "light"
     },
     "output_type": "display_data"
    }
   ],
   "source": [
    "img = load_img('D:/PIAIC AI Course March 2020/Q2/deeplearning assigment/flowers/daisy/5547758_eea9edfd54_n.jpg')\n",
    "img = img.resize((p, p), Image.ANTIALIAS)\n",
    "img_array = img_to_array(img)\n",
    "plt.imshow(img)"
   ]
  },
  {
   "cell_type": "markdown",
   "metadata": {},
   "source": [
    "# Load Pictures and Convert to array and make a Single X(Pixels) and Y(Lables) dataset"
   ]
  },
  {
   "cell_type": "code",
   "execution_count": 4,
   "metadata": {},
   "outputs": [],
   "source": [
    "# ----------------   0          1         2         3           4 \n",
    "classification = ['daisy', 'dandelion', 'rose', 'sunflower', 'tulip']"
   ]
  },
  {
   "cell_type": "code",
   "execution_count": 5,
   "metadata": {},
   "outputs": [],
   "source": [
    "path = 'D:/PIAIC AI Course March 2020/Q2/deeplearning assigment/flowers/'"
   ]
  },
  {
   "cell_type": "code",
   "execution_count": 6,
   "metadata": {},
   "outputs": [],
   "source": [
    "length_daisy = len(os.listdir(path+'daisy'))\n",
    "length_dandelion = len(os.listdir(path+'dandelion'))\n",
    "length_rose = len(os.listdir(path+'rose'))\n",
    "length_sunflower = len(os.listdir(path+'sunflower'))\n",
    "length_tulip = len(os.listdir(path+'tulip'))"
   ]
  },
  {
   "cell_type": "code",
   "execution_count": 7,
   "metadata": {},
   "outputs": [
    {
     "name": "stdout",
     "output_type": "stream",
     "text": [
      "769\n",
      "1052\n",
      "784\n",
      "734\n",
      "984\n"
     ]
    }
   ],
   "source": [
    "print(length_daisy)\n",
    "print(length_dandelion)\n",
    "print(length_rose)\n",
    "print(length_sunflower)\n",
    "print(length_tulip)"
   ]
  },
  {
   "cell_type": "code",
   "execution_count": 8,
   "metadata": {},
   "outputs": [
    {
     "data": {
      "text/plain": [
       "4323"
      ]
     },
     "execution_count": 8,
     "metadata": {},
     "output_type": "execute_result"
    }
   ],
   "source": [
    "length_x = length_daisy + length_dandelion + length_rose + length_sunflower + length_tulip\n",
    "length_x"
   ]
  },
  {
   "cell_type": "code",
   "execution_count": 9,
   "metadata": {},
   "outputs": [
    {
     "data": {
      "text/plain": [
       "(4323, 64, 64, 3)"
      ]
     },
     "execution_count": 9,
     "metadata": {},
     "output_type": "execute_result"
    }
   ],
   "source": [
    "x = np.zeros((length_x,p,p,3))\n",
    "x.shape"
   ]
  },
  {
   "cell_type": "code",
   "execution_count": 10,
   "metadata": {},
   "outputs": [
    {
     "data": {
      "text/plain": [
       "(4323, 1)"
      ]
     },
     "execution_count": 10,
     "metadata": {},
     "output_type": "execute_result"
    }
   ],
   "source": [
    "y = np.zeros((length_x,1))\n",
    "y.shape"
   ]
  },
  {
   "cell_type": "markdown",
   "metadata": {},
   "source": [
    "### Load daisy pictures"
   ]
  },
  {
   "cell_type": "code",
   "execution_count": 11,
   "metadata": {},
   "outputs": [
    {
     "data": {
      "text/plain": [
       "769"
      ]
     },
     "execution_count": 11,
     "metadata": {},
     "output_type": "execute_result"
    }
   ],
   "source": [
    "z = 0   #Counter for image file loading \n",
    "d = 0   #Counter for array append for different flowers\n",
    "for i in os.listdir(path+'daisy'):\n",
    "    img = load_img(path+'daisy/'+os.listdir(path+'daisy')[z])\n",
    "    img = img.resize((p, p), Image.ANTIALIAS)\n",
    "    img_array = img_to_array(img)\n",
    "    x[d] = img_array\n",
    "    y[d] = 0\n",
    "    \n",
    "    z += 1\n",
    "    d += 1\n",
    "d"
   ]
  },
  {
   "cell_type": "markdown",
   "metadata": {},
   "source": [
    "### Load dandelion pictures"
   ]
  },
  {
   "cell_type": "code",
   "execution_count": 12,
   "metadata": {},
   "outputs": [
    {
     "data": {
      "text/plain": [
       "1821"
      ]
     },
     "execution_count": 12,
     "metadata": {},
     "output_type": "execute_result"
    }
   ],
   "source": [
    "z = 0   #Counter for image file loading \n",
    "d = 769   #Counter for array append for different flowers\n",
    "for i in os.listdir(path+'dandelion'):\n",
    "    img = load_img(path+'dandelion/'+os.listdir(path+'dandelion')[z])\n",
    "    img = img.resize((p, p), Image.ANTIALIAS)\n",
    "    img_array = img_to_array(img)\n",
    "    x[d] = img_array\n",
    "    y[d] = 1\n",
    "    \n",
    "    z += 1\n",
    "    d += 1\n",
    "d"
   ]
  },
  {
   "cell_type": "markdown",
   "metadata": {},
   "source": [
    "### Load rose pictures"
   ]
  },
  {
   "cell_type": "code",
   "execution_count": 13,
   "metadata": {},
   "outputs": [
    {
     "data": {
      "text/plain": [
       "2605"
      ]
     },
     "execution_count": 13,
     "metadata": {},
     "output_type": "execute_result"
    }
   ],
   "source": [
    "z = 0   #Counter for image file loading \n",
    "d = 1821   #Counter for array append for different flowers\n",
    "for i in os.listdir(path+'rose'):\n",
    "    img = load_img(path+'rose/'+os.listdir(path+'rose')[z])\n",
    "    img = img.resize((p, p), Image.ANTIALIAS)\n",
    "    img_array = img_to_array(img)\n",
    "    x[d] = img_array\n",
    "    y[d] = 2\n",
    "    \n",
    "    z += 1\n",
    "    d += 1\n",
    "d"
   ]
  },
  {
   "cell_type": "markdown",
   "metadata": {},
   "source": [
    "### Load sunflower pictures"
   ]
  },
  {
   "cell_type": "code",
   "execution_count": 14,
   "metadata": {},
   "outputs": [
    {
     "data": {
      "text/plain": [
       "3339"
      ]
     },
     "execution_count": 14,
     "metadata": {},
     "output_type": "execute_result"
    }
   ],
   "source": [
    "z = 0   #Counter for image file loading \n",
    "d = 2605   #Counter for array append for different flowers\n",
    "for i in os.listdir(path+'sunflower'):\n",
    "    img = load_img(path+'sunflower/'+os.listdir(path+'sunflower')[z])\n",
    "    img = img.resize((p, p), Image.ANTIALIAS)\n",
    "    img_array = img_to_array(img)\n",
    "    x[d] = img_array\n",
    "    y[d] = 3\n",
    "    \n",
    "    z += 1\n",
    "    d += 1\n",
    "d"
   ]
  },
  {
   "cell_type": "markdown",
   "metadata": {},
   "source": [
    "### Load tulip pictures"
   ]
  },
  {
   "cell_type": "code",
   "execution_count": 15,
   "metadata": {},
   "outputs": [
    {
     "data": {
      "text/plain": [
       "4323"
      ]
     },
     "execution_count": 15,
     "metadata": {},
     "output_type": "execute_result"
    }
   ],
   "source": [
    "z = 0   #Counter for image file loading \n",
    "d = 3339   #Counter for array append for different flowers\n",
    "for i in os.listdir(path+'tulip'):\n",
    "    img = load_img(path+'tulip/'+os.listdir(path+'tulip')[z])\n",
    "    img = img.resize((p, p), Image.ANTIALIAS)\n",
    "    img_array = img_to_array(img)\n",
    "    x[d] = img_array\n",
    "    y[d] = 4\n",
    "    \n",
    "    z += 1\n",
    "    d += 1\n",
    "d"
   ]
  },
  {
   "cell_type": "code",
   "execution_count": 16,
   "metadata": {},
   "outputs": [
    {
     "name": "stdout",
     "output_type": "stream",
     "text": [
      "(4323, 64, 64, 3)\n",
      "(4323, 1)\n"
     ]
    }
   ],
   "source": [
    "print(x.shape)\n",
    "print(y.shape)"
   ]
  },
  {
   "cell_type": "markdown",
   "metadata": {},
   "source": [
    "# Split Data into Train, Test and Validation"
   ]
  },
  {
   "cell_type": "code",
   "execution_count": 17,
   "metadata": {},
   "outputs": [],
   "source": [
    "from sklearn.model_selection import train_test_split"
   ]
  },
  {
   "cell_type": "code",
   "execution_count": 18,
   "metadata": {},
   "outputs": [],
   "source": [
    "# Split to 60% Train and 40% Test\n",
    "x_train, x_test, y_train, y_test = train_test_split(x, y, test_size=0.40, random_state=42)"
   ]
  },
  {
   "cell_type": "code",
   "execution_count": 19,
   "metadata": {},
   "outputs": [
    {
     "name": "stdout",
     "output_type": "stream",
     "text": [
      "(2593, 64, 64, 3)\n",
      "(1730, 64, 64, 3)\n",
      "(2593, 1)\n",
      "(1730, 1)\n"
     ]
    }
   ],
   "source": [
    "print(x_train.shape)\n",
    "print(x_test.shape)\n",
    "print(y_train.shape)\n",
    "print(y_test.shape)"
   ]
  },
  {
   "cell_type": "markdown",
   "metadata": {},
   "source": [
    "# One Hot encoding of Labels"
   ]
  },
  {
   "cell_type": "code",
   "execution_count": 20,
   "metadata": {},
   "outputs": [],
   "source": [
    "# Convert the labels into a set of 5 numbers to input into NN\n",
    "# Every set of rows will have 5 values, all 0 except the one with actual label index will be 1\n",
    "y_train_one_hot = to_categorical(y_train)\n",
    "y_test_one_hot = to_categorical(y_test)"
   ]
  },
  {
   "cell_type": "code",
   "execution_count": 21,
   "metadata": {},
   "outputs": [
    {
     "data": {
      "text/plain": [
       "array([0., 0., 0., 1., 0.], dtype=float32)"
      ]
     },
     "execution_count": 21,
     "metadata": {},
     "output_type": "execute_result"
    }
   ],
   "source": [
    "y_train_one_hot[0]"
   ]
  },
  {
   "cell_type": "code",
   "execution_count": 22,
   "metadata": {},
   "outputs": [
    {
     "name": "stdout",
     "output_type": "stream",
     "text": [
      "(2593, 5)\n",
      "(1730, 5)\n"
     ]
    }
   ],
   "source": [
    "print(y_train_one_hot.shape)\n",
    "print(y_test_one_hot.shape)"
   ]
  },
  {
   "cell_type": "markdown",
   "metadata": {},
   "source": [
    "# Normalize pixel values between 0 and 1"
   ]
  },
  {
   "cell_type": "code",
   "execution_count": 23,
   "metadata": {},
   "outputs": [],
   "source": [
    "x_train = x_train /255\n",
    "x_test = x_test /255"
   ]
  },
  {
   "cell_type": "markdown",
   "metadata": {},
   "source": [
    "# Create Model"
   ]
  },
  {
   "cell_type": "code",
   "execution_count": 24,
   "metadata": {},
   "outputs": [],
   "source": [
    "model = Sequential()\n",
    "\n",
    "# First Layer (32 5x5 relu convoluted feature maps)\n",
    "model.add(Conv2D(32, (5,5) , activation = 'relu', input_shape=(p,p,3)))\n",
    "\n",
    "# 2nd Layer as pooling Layer (creating a pooling layer with 2x2 pixel filter)\n",
    "model.add(MaxPooling2D(pool_size = (2,2)))\n",
    "\n",
    "# 3rd Layer (2nd Colvolution Layer)\n",
    "model.add(Conv2D(32, (5,5) , activation = 'relu'))\n",
    "\n",
    "# 4th Layer (2nd Pooling Layer)\n",
    "model.add(MaxPooling2D(pool_size = (2,2)))\n",
    "\n",
    "# 5th Layer (Flattening Layer)\n",
    "model.add(Flatten())\n",
    "\n",
    "# 6th Layer with 1000 neurons to feed from previous layers\n",
    "model.add(Dense(1000, activation = 'relu'))\n",
    "\n",
    "# 7th Layer (Dropout layer with 50%)\n",
    "model.add(Dropout(0.5))\n",
    "\n",
    "# 8th Layer with 500 neurons to feed from previous layers\n",
    "model.add(Dense(500, activation = 'relu'))\n",
    "\n",
    "# 9th Layer (Dropout layer with 50%)\n",
    "model.add(Dropout(0.5))\n",
    "\n",
    "# 10th Layer with 250 neurons to feed from previous layers\n",
    "model.add(Dense(250, activation = 'relu'))\n",
    "\n",
    "# 11th Layer with 5 neurons (as there are 10 different Classifications)\n",
    "model.add(Dense(5, activation = 'softmax'))"
   ]
  },
  {
   "cell_type": "code",
   "execution_count": 25,
   "metadata": {},
   "outputs": [],
   "source": [
    "# Compile the Model\n",
    "\n",
    "model.compile(loss = 'categorical_crossentropy',\n",
    "             optimizer = 'adam',\n",
    "              metrics = ['accuracy']\n",
    "             )"
   ]
  },
  {
   "cell_type": "code",
   "execution_count": 26,
   "metadata": {
    "scrolled": true
   },
   "outputs": [
    {
     "name": "stdout",
     "output_type": "stream",
     "text": [
      "Epoch 1/15\n",
      "9/9 [==============================] - 9s 985ms/step - loss: 1.6242 - accuracy: 0.2428 - val_loss: 1.4579 - val_accuracy: 0.3449\n",
      "Epoch 2/15\n",
      "9/9 [==============================] - 7s 772ms/step - loss: 1.3984 - accuracy: 0.3622 - val_loss: 1.3711 - val_accuracy: 0.3796\n",
      "Epoch 3/15\n",
      "9/9 [==============================] - 7s 827ms/step - loss: 1.3568 - accuracy: 0.3782 - val_loss: 1.2269 - val_accuracy: 0.4759\n",
      "Epoch 4/15\n",
      "9/9 [==============================] - 7s 785ms/step - loss: 1.3095 - accuracy: 0.4224 - val_loss: 1.1754 - val_accuracy: 0.4894\n",
      "Epoch 5/15\n",
      "9/9 [==============================] - 8s 847ms/step - loss: 1.2174 - accuracy: 0.4694 - val_loss: 1.1286 - val_accuracy: 0.5299\n",
      "Epoch 6/15\n",
      "9/9 [==============================] - 8s 852ms/step - loss: 1.1993 - accuracy: 0.4910 - val_loss: 1.2185 - val_accuracy: 0.4355\n",
      "Epoch 7/15\n",
      "9/9 [==============================] - 7s 802ms/step - loss: 1.1832 - accuracy: 0.5091 - val_loss: 1.1171 - val_accuracy: 0.5222\n",
      "Epoch 8/15\n",
      "9/9 [==============================] - 8s 837ms/step - loss: 1.0787 - accuracy: 0.5555 - val_loss: 1.0230 - val_accuracy: 0.5626\n",
      "Epoch 9/15\n",
      "9/9 [==============================] - 8s 891ms/step - loss: 1.0622 - accuracy: 0.5547 - val_loss: 1.1280 - val_accuracy: 0.5742\n",
      "Epoch 10/15\n",
      "9/9 [==============================] - 7s 776ms/step - loss: 1.0732 - accuracy: 0.5486 - val_loss: 0.9689 - val_accuracy: 0.6166\n",
      "Epoch 11/15\n",
      "9/9 [==============================] - 7s 803ms/step - loss: 0.9639 - accuracy: 0.6125 - val_loss: 0.9457 - val_accuracy: 0.6185\n",
      "Epoch 12/15\n",
      "9/9 [==============================] - 7s 820ms/step - loss: 0.8594 - accuracy: 0.6567 - val_loss: 1.0525 - val_accuracy: 0.5934\n",
      "Epoch 13/15\n",
      "9/9 [==============================] - 7s 826ms/step - loss: 0.8634 - accuracy: 0.6476 - val_loss: 0.9624 - val_accuracy: 0.6224\n",
      "Epoch 14/15\n",
      "9/9 [==============================] - 8s 866ms/step - loss: 0.7718 - accuracy: 0.7079 - val_loss: 1.0237 - val_accuracy: 0.5530\n",
      "Epoch 15/15\n",
      "9/9 [==============================] - 7s 815ms/step - loss: 0.7301 - accuracy: 0.7115 - val_loss: 1.0335 - val_accuracy: 0.5800\n"
     ]
    }
   ],
   "source": [
    "# Train the Model with Validation Data of 20%\n",
    "\n",
    "hist = model.fit(x_train, y_train_one_hot, epochs = 15, batch_size = 256,\n",
    "                validation_split = 0.2)"
   ]
  },
  {
   "cell_type": "markdown",
   "metadata": {},
   "source": [
    "# Check Accuracy of Model based on Test Data"
   ]
  },
  {
   "cell_type": "code",
   "execution_count": 27,
   "metadata": {
    "scrolled": true
   },
   "outputs": [
    {
     "name": "stdout",
     "output_type": "stream",
     "text": [
      "55/55 [==============================] - 2s 31ms/step - loss: 1.0782 - accuracy: 0.5913\n"
     ]
    },
    {
     "data": {
      "text/plain": [
       "0.5913294553756714"
      ]
     },
     "execution_count": 27,
     "metadata": {},
     "output_type": "execute_result"
    }
   ],
   "source": [
    "model.evaluate(x_test, y_test_one_hot)[1]"
   ]
  },
  {
   "cell_type": "markdown",
   "metadata": {},
   "source": [
    "# Check Model's Loss and Accuracy against Validation Data"
   ]
  },
  {
   "cell_type": "code",
   "execution_count": 28,
   "metadata": {},
   "outputs": [
    {
     "data": {
      "text/plain": [
       "dict_keys(['loss', 'accuracy', 'val_loss', 'val_accuracy'])"
      ]
     },
     "execution_count": 28,
     "metadata": {},
     "output_type": "execute_result"
    }
   ],
   "source": [
    "hist.history.keys()"
   ]
  },
  {
   "cell_type": "code",
   "execution_count": 29,
   "metadata": {},
   "outputs": [
    {
     "data": {
      "text/plain": [
       "<matplotlib.legend.Legend at 0x25134515190>"
      ]
     },
     "execution_count": 29,
     "metadata": {},
     "output_type": "execute_result"
    },
    {
     "data": {
      "image/png": "[encoded data removed]",
      "text/plain": [
       "<Figure size 432x288 with 1 Axes>"
      ]
     },
     "metadata": {
      "needs_background": "light"
     },
     "output_type": "display_data"
    }
   ],
   "source": [
    "# Visuialize the Training and Valudation Loss to see if Model is overfitting\n",
    "plt.plot(hist.history[\"loss\"])\n",
    "plt.plot(hist.history[\"val_loss\"])\n",
    "plt.title('Model Loss')\n",
    "plt.ylabel('Loss')\n",
    "plt.xlabel('Epochs')\n",
    "plt.legend(['Train', 'Val'])"
   ]
  },
  {
   "cell_type": "code",
   "execution_count": 30,
   "metadata": {},
   "outputs": [
    {
     "data": {
      "text/plain": [
       "<matplotlib.legend.Legend at 0x2513457dc70>"
      ]
     },
     "execution_count": 30,
     "metadata": {},
     "output_type": "execute_result"
    },
    {
     "data": {
      "image/png": "[encoded data removed]",
      "text/plain": [
       "<Figure size 432x288 with 1 Axes>"
      ]
     },
     "metadata": {
      "needs_background": "light"
     },
     "output_type": "display_data"
    }
   ],
   "source": [
    "# Visuialize the Training and Valudation Loss to see if Model is overfitting\n",
    "plt.plot(hist.history[\"accuracy\"])\n",
    "plt.plot(hist.history[\"val_accuracy\"])\n",
    "plt.title('Model Accuracy')\n",
    "plt.ylabel('Accuracy')\n",
    "plt.xlabel('Epochs')\n",
    "plt.legend(['Train', 'Val'])"
   ]
  },
  {
   "cell_type": "markdown",
   "metadata": {},
   "source": [
    "# Test the Model with random images online"
   ]
  },
  {
   "cell_type": "markdown",
   "metadata": {},
   "source": [
    "### Test Image 1"
   ]
  },
  {
   "cell_type": "code",
   "execution_count": 104,
   "metadata": {},
   "outputs": [
    {
     "data": {
      "text/plain": [
       "<matplotlib.image.AxesImage at 0x25106920670>"
      ]
     },
     "execution_count": 104,
     "metadata": {},
     "output_type": "execute_result"
    },
    {
     "data": {
      "image/png": "[encoded data removed]",
      "text/plain": [
       "<Figure size 432x288 with 1 Axes>"
      ]
     },
     "metadata": {
      "needs_background": "light"
     },
     "output_type": "display_data"
    }
   ],
   "source": [
    "img = load_img('tulip.jpeg')\n",
    "img = img.resize((p, p), Image.ANTIALIAS)\n",
    "plt.imshow(img)"
   ]
  },
  {
   "cell_type": "code",
   "execution_count": 105,
   "metadata": {},
   "outputs": [],
   "source": [
    "img_array = img_to_array(img)"
   ]
  },
  {
   "cell_type": "code",
   "execution_count": 106,
   "metadata": {},
   "outputs": [
    {
     "data": {
      "text/plain": [
       "(64, 64, 3)"
      ]
     },
     "execution_count": 106,
     "metadata": {},
     "output_type": "execute_result"
    }
   ],
   "source": [
    "img_array.shape"
   ]
  },
  {
   "cell_type": "code",
   "execution_count": 107,
   "metadata": {},
   "outputs": [
    {
     "data": {
      "text/plain": [
       "(1, 64, 64, 3)"
      ]
     },
     "execution_count": 107,
     "metadata": {},
     "output_type": "execute_result"
    }
   ],
   "source": [
    "img_array = np.expand_dims(img_array, axis=0)\n",
    "img_array.shape"
   ]
  },
  {
   "cell_type": "code",
   "execution_count": 108,
   "metadata": {},
   "outputs": [
    {
     "data": {
      "text/plain": [
       "array([[0., 0., 0., 0., 1.]], dtype=float32)"
      ]
     },
     "execution_count": 108,
     "metadata": {},
     "output_type": "execute_result"
    }
   ],
   "source": [
    "predictions = model.predict(img_array)\n",
    "predictions"
   ]
  },
  {
   "cell_type": "code",
   "execution_count": 109,
   "metadata": {},
   "outputs": [
    {
     "name": "stdout",
     "output_type": "stream",
     "text": [
      "[4, 1, 2, 3, 0]\n"
     ]
    }
   ],
   "source": [
    "# Sort predictions from least to Greatest\n",
    "list_index = [0,1,2,3,4]\n",
    "x = predictions\n",
    "\n",
    "for i in range(5):\n",
    "    for j in range(5):\n",
    "        if x[0][list_index[i]] > x[0][list_index[j]]:\n",
    "            temp = list_index[i]\n",
    "            list_index[i] = list_index[j]\n",
    "            list_index[j] = temp\n",
    "            \n",
    "# Show the sorted labels in order\n",
    "print(list_index)"
   ]
  },
  {
   "cell_type": "code",
   "execution_count": 110,
   "metadata": {},
   "outputs": [
    {
     "name": "stdout",
     "output_type": "stream",
     "text": [
      "tulip : 100.0 %\n",
      "dandelion : 0.0 %\n",
      "rose : 0.0 %\n",
      "sunflower : 0.0 %\n",
      "daisy : 0.0 %\n"
     ]
    }
   ],
   "source": [
    "for i in range(5):\n",
    "    print(classification[list_index[i]], ':', round(predictions[0][list_index[i]] * 100,2), '%' )"
   ]
  },
  {
   "cell_type": "markdown",
   "metadata": {},
   "source": [
    "### Test Image 2"
   ]
  },
  {
   "cell_type": "code",
   "execution_count": 82,
   "metadata": {},
   "outputs": [
    {
     "data": {
      "text/plain": [
       "<matplotlib.image.AxesImage at 0x25106808cd0>"
      ]
     },
     "execution_count": 82,
     "metadata": {},
     "output_type": "execute_result"
    },
    {
     "data": {
      "image/png": "[encoded data removed]",
      "text/plain": [
       "<Figure size 432x288 with 1 Axes>"
      ]
     },
     "metadata": {
      "needs_background": "light"
     },
     "output_type": "display_data"
    }
   ],
   "source": [
    "img = load_img('Dandelion2.jpg')\n",
    "img = img.resize((p, p), Image.ANTIALIAS)\n",
    "plt.imshow(img)"
   ]
  },
  {
   "cell_type": "code",
   "execution_count": 83,
   "metadata": {},
   "outputs": [],
   "source": [
    "img_array = img_to_array(img)"
   ]
  },
  {
   "cell_type": "code",
   "execution_count": 84,
   "metadata": {},
   "outputs": [
    {
     "data": {
      "text/plain": [
       "(64, 64, 3)"
      ]
     },
     "execution_count": 84,
     "metadata": {},
     "output_type": "execute_result"
    }
   ],
   "source": [
    "img_array.shape"
   ]
  },
  {
   "cell_type": "code",
   "execution_count": 85,
   "metadata": {},
   "outputs": [
    {
     "data": {
      "text/plain": [
       "(1, 64, 64, 3)"
      ]
     },
     "execution_count": 85,
     "metadata": {},
     "output_type": "execute_result"
    }
   ],
   "source": [
    "img_array = np.expand_dims(img_array, axis=0)\n",
    "img_array.shape"
   ]
  },
  {
   "cell_type": "code",
   "execution_count": 86,
   "metadata": {},
   "outputs": [
    {
     "data": {
      "text/plain": [
       "array([[5.911991e-20, 1.000000e+00, 0.000000e+00, 0.000000e+00,\n",
       "        0.000000e+00]], dtype=float32)"
      ]
     },
     "execution_count": 86,
     "metadata": {},
     "output_type": "execute_result"
    }
   ],
   "source": [
    "predictions = model.predict(img_array)\n",
    "predictions"
   ]
  },
  {
   "cell_type": "code",
   "execution_count": 87,
   "metadata": {},
   "outputs": [
    {
     "name": "stdout",
     "output_type": "stream",
     "text": [
      "[1, 0, 2, 3, 4]\n"
     ]
    }
   ],
   "source": [
    "# Sort predictions from least to Greatest\n",
    "list_index = [0,1,2,3,4]\n",
    "x = predictions\n",
    "\n",
    "for i in range(5):\n",
    "    for j in range(5):\n",
    "        if x[0][list_index[i]] > x[0][list_index[j]]:\n",
    "            temp = list_index[i]\n",
    "            list_index[i] = list_index[j]\n",
    "            list_index[j] = temp\n",
    "            \n",
    "# Show the sorted labels in order\n",
    "print(list_index)"
   ]
  },
  {
   "cell_type": "code",
   "execution_count": 88,
   "metadata": {},
   "outputs": [
    {
     "name": "stdout",
     "output_type": "stream",
     "text": [
      "dandelion : 100.0 %\n",
      "daisy : 0.0 %\n",
      "rose : 0.0 %\n",
      "sunflower : 0.0 %\n",
      "tulip : 0.0 %\n"
     ]
    }
   ],
   "source": [
    "for i in range(5):\n",
    "    print(classification[list_index[i]], ':', round(predictions[0][list_index[i]] * 100,2), '%' )"
   ]
  },
  {
   "cell_type": "markdown",
   "metadata": {},
   "source": [
    "### Test Image 3"
   ]
  },
  {
   "cell_type": "code",
   "execution_count": 97,
   "metadata": {},
   "outputs": [
    {
     "data": {
      "text/plain": [
       "<matplotlib.image.AxesImage at 0x251068bedf0>"
      ]
     },
     "execution_count": 97,
     "metadata": {},
     "output_type": "execute_result"
    },
    {
     "data": {
      "image/png": "[encoded data removed]",
      "text/plain": [
       "<Figure size 432x288 with 1 Axes>"
      ]
     },
     "metadata": {
      "needs_background": "light"
     },
     "output_type": "display_data"
    }
   ],
   "source": [
    "img = load_img('tulip2.jpg')\n",
    "img = img.resize((p, p), Image.ANTIALIAS)\n",
    "plt.imshow(img)"
   ]
  },
  {
   "cell_type": "code",
   "execution_count": 98,
   "metadata": {},
   "outputs": [],
   "source": [
    "img_array = img_to_array(img)"
   ]
  },
  {
   "cell_type": "code",
   "execution_count": 99,
   "metadata": {},
   "outputs": [
    {
     "data": {
      "text/plain": [
       "(64, 64, 3)"
      ]
     },
     "execution_count": 99,
     "metadata": {},
     "output_type": "execute_result"
    }
   ],
   "source": [
    "img_array.shape"
   ]
  },
  {
   "cell_type": "code",
   "execution_count": 100,
   "metadata": {},
   "outputs": [
    {
     "data": {
      "text/plain": [
       "(1, 64, 64, 3)"
      ]
     },
     "execution_count": 100,
     "metadata": {},
     "output_type": "execute_result"
    }
   ],
   "source": [
    "img_array = np.expand_dims(img_array, axis=0)\n",
    "img_array.shape"
   ]
  },
  {
   "cell_type": "code",
   "execution_count": 101,
   "metadata": {},
   "outputs": [
    {
     "data": {
      "text/plain": [
       "array([[0., 0., 0., 0., 1.]], dtype=float32)"
      ]
     },
     "execution_count": 101,
     "metadata": {},
     "output_type": "execute_result"
    }
   ],
   "source": [
    "predictions = model.predict(img_array)\n",
    "predictions"
   ]
  },
  {
   "cell_type": "code",
   "execution_count": 102,
   "metadata": {},
   "outputs": [
    {
     "name": "stdout",
     "output_type": "stream",
     "text": [
      "[4, 1, 2, 3, 0]\n"
     ]
    }
   ],
   "source": [
    "# Sort predictions from least to Greatest\n",
    "list_index = [0,1,2,3,4]\n",
    "x = predictions\n",
    "\n",
    "for i in range(5):\n",
    "    for j in range(5):\n",
    "        if x[0][list_index[i]] > x[0][list_index[j]]:\n",
    "            temp = list_index[i]\n",
    "            list_index[i] = list_index[j]\n",
    "            list_index[j] = temp\n",
    "            \n",
    "# Show the sorted labels in order\n",
    "print(list_index)"
   ]
  },
  {
   "cell_type": "code",
   "execution_count": 103,
   "metadata": {},
   "outputs": [
    {
     "name": "stdout",
     "output_type": "stream",
     "text": [
      "tulip : 100.0 %\n",
      "dandelion : 0.0 %\n",
      "rose : 0.0 %\n",
      "sunflower : 0.0 %\n",
      "daisy : 0.0 %\n"
     ]
    }
   ],
   "source": [
    "for i in range(5):\n",
    "    print(classification[list_index[i]], ':', round(predictions[0][list_index[i]] * 100,2), '%' )"
   ]
  },
  {
   "cell_type": "code",
   "execution_count": null,
   "metadata": {},
   "outputs": [],
   "source": []
  },
  {
   "cell_type": "code",
   "execution_count": null,
   "metadata": {},
   "outputs": [],
   "source": []
  }
 ],
 "metadata": {
  "colab": {
   "name": "Flowers Recognition.ipynb",
   "provenance": []
  },
  "kernelspec": {
   "display_name": "Python 3",
   "language": "python",
   "name": "python3"
  },
  "language_info": {
   "codemirror_mode": {
    "name": "ipython",
    "version": 3
   },
   "file_extension": ".py",
   "mimetype": "text/x-python",
   "name": "python",
   "nbconvert_exporter": "python",
   "pygments_lexer": "ipython3",
   "version": "3.8.5"
  }
 },
 "nbformat": 4,
 "nbformat_minor": 1
}
