{
 "cells": [
  {
   "cell_type": "markdown",
   "metadata": {},
   "source": [
    "# Assignment: Compresive Strength Concrete Problem\n",
    "\n",
    "\n",
    "### Abstract: \n",
    "\n",
    "Concrete is the most important material in civil engineering. The concrete compressive strength (concrete strength to bear the load) is a highly nonlinear function of age and ingredients.  <br><br>\n",
    "\n",
    "<table border=\"1\"  cellpadding=\"6\" bordercolor=\"red\">\n",
    "\t<tbody>\n",
    "        <tr>\n",
    "\t\t<td bgcolor=\"#DDEEFF\"><p class=\"normal\"><b>Data Set Characteristics:&nbsp;&nbsp;</b></p></td>\n",
    "\t\t<td><p class=\"normal\">Multivariate</p></td>\n",
    "\t\t<td bgcolor=\"#DDEEFF\"><p class=\"normal\"><b>Number of Instances:</b></p></td>\n",
    "\t\t<td><p class=\"normal\">1030</p></td>\n",
    "\t\t<td bgcolor=\"#DDEEFF\"><p class=\"normal\"><b>Area:</b></p></td>\n",
    "\t\t<td><p class=\"normal\">Physical</p></td>\n",
    "        </tr>\n",
    "     </tbody>\n",
    "    </table>\n",
    "<table border=\"1\" cellpadding=\"6\">\n",
    "    <tbody>\n",
    "        <tr>\n",
    "            <td bgcolor=\"#DDEEFF\"><p class=\"normal\"><b>Attribute Characteristics:</b></p></td>\n",
    "            <td><p class=\"normal\">Real</p></td>\n",
    "            <td bgcolor=\"#DDEEFF\"><p class=\"normal\"><b>Number of Attributes:</b></p></td>\n",
    "            <td><p class=\"normal\">9</p></td>\n",
    "            <td bgcolor=\"#DDEEFF\"><p class=\"normal\"><b>Date Donated</b></p></td>\n",
    "            <td><p class=\"normal\">2007-08-03</p></td>\n",
    "        </tr>\n",
    "     </tbody>\n",
    "    </table>\n",
    "<table border=\"1\" cellpadding=\"6\">\t\n",
    "    <tbody>\n",
    "    <tr>\n",
    "\t\t<td bgcolor=\"#DDEEFF\"><p class=\"normal\"><b>Associated Tasks:</b></p></td>\n",
    "\t\t<td><p class=\"normal\">Regression</p></td>\n",
    "\t\t<td bgcolor=\"#DDEEFF\"><p class=\"normal\"><b>Missing Values?</b></p></td>\n",
    "\t\t<td><p class=\"normal\">N/A</p></td>\n",
    "\t\t<td bgcolor=\"#DDEEFF\"><p class=\"normal\"><b>Number of Web Hits:</b></p></td>\n",
    "\t\t<td><p class=\"normal\">231464</p></td>\n",
    "\t</tr>\n",
    "    </tbody>\n",
    "    </table>"
   ]
  },
  {
   "cell_type": "markdown",
   "metadata": {},
   "source": [
    "###  Description:\n",
    "| Features Name | Data Type | Measurement | Description |\n",
    "| -- | -- | -- | -- |\n",
    "Cement (component 1) | quantitative | kg in a m3 mixture | Input Variable\n",
    "Blast Furnace Slag (component 2) | quantitative | kg in a m3 mixture | Input Variable\n",
    "Fly Ash (component 3) | quantitative | kg in a m3 mixture | Input Variable\n",
    "Water (component 4) | quantitative | kg in a m3 mixture | Input Variable\n",
    "Superplasticizer (component 5) | quantitative | kg in a m3 mixture | Input Variable\n",
    "Coarse Aggregate (component 6) | quantitative | kg in a m3 mixture | Input Variable\n",
    "Fine Aggregate (component 7) | quantitative | kg in a m3 mixture | Input Variable\n",
    "Age | quantitative | Day (1~365) | Input Variable\n",
    "Concrete compressive strength | quantitative | MPa | Output Variable\n",
    "\n",
    "### WORKFLOW :\n",
    "- Load Data\n",
    "- Check Missing Values ( If Exist ; Fill each record with mean of its feature )\n",
    "- Standardized the Input Variables. **Hint**: Centeralized the data\n",
    "- Split into 50% Training(Samples,Labels) , 30% Test(Samples,Labels) and 20% Validation Data(Samples,Labels).\n",
    "- Model : input Layer (No. of features ), 3 hidden layers including 10,8,6 unit & Output Layer with activation function relu/tanh (check by experiment).\n",
    "- Compilation Step (Note : Its a Regression problem , select loss , metrics according to it)\n",
    "- Train the Model with Epochs (100) and validate it\n",
    "- If the model gets overfit tune your model by changing the units , No. of layers , activation function , epochs , add dropout layer or add Regularizer according to the need .\n",
    "- Evaluation Step\n",
    "- Prediction\n"
   ]
  },
  {
   "cell_type": "markdown",
   "metadata": {},
   "source": [
    "# Load Data:\n",
    "[Click Here to Download DataSet](https://github.com/ramsha275/ML_Datasets/blob/main/compresive_strength_concrete.csv)"
   ]
  },
  {
   "cell_type": "code",
   "execution_count": 1,
   "metadata": {},
   "outputs": [],
   "source": [
    "import pandas as pd\n",
    "import numpy as np\n",
    "\n",
    "import matplotlib.pyplot as plt\n",
    "import seaborn as sns\n",
    "\n",
    "import tensorflow as tf\n",
    "from tensorflow.keras.models import Sequential\n",
    "from tensorflow.keras.layers import Dense, LSTM\n",
    "from tensorflow.keras.optimizers import Adam, SGD"
   ]
  },
  {
   "cell_type": "code",
   "execution_count": 23,
   "metadata": {},
   "outputs": [],
   "source": [
    "con_df = pd.read_csv('compresive_strength_concrete.csv')"
   ]
  },
  {
   "cell_type": "code",
   "execution_count": 24,
   "metadata": {},
   "outputs": [
    {
     "data": {
      "text/plain": [
       "Cement (component 1)(kg in a m^3 mixture)                0\n",
       "Blast Furnace Slag (component 2)(kg in a m^3 mixture)    0\n",
       "Fly Ash (component 3)(kg in a m^3 mixture)               0\n",
       "Water  (component 4)(kg in a m^3 mixture)                0\n",
       "Superplasticizer (component 5)(kg in a m^3 mixture)      0\n",
       "Coarse Aggregate  (component 6)(kg in a m^3 mixture)     0\n",
       "Fine Aggregate (component 7)(kg in a m^3 mixture)        0\n",
       "Age (day)                                                0\n",
       "Concrete compressive strength(MPa, megapascals)          0\n",
       "dtype: int64"
      ]
     },
     "execution_count": 24,
     "metadata": {},
     "output_type": "execute_result"
    }
   ],
   "source": [
    "con_df.isnull().sum()"
   ]
  },
  {
   "cell_type": "code",
   "execution_count": 25,
   "metadata": {},
   "outputs": [
    {
     "name": "stdout",
     "output_type": "stream",
     "text": [
      "<class 'pandas.core.frame.DataFrame'>\n",
      "RangeIndex: 1030 entries, 0 to 1029\n",
      "Data columns (total 9 columns):\n",
      " #   Column                                                 Non-Null Count  Dtype  \n",
      "---  ------                                                 --------------  -----  \n",
      " 0   Cement (component 1)(kg in a m^3 mixture)              1030 non-null   float64\n",
      " 1   Blast Furnace Slag (component 2)(kg in a m^3 mixture)  1030 non-null   float64\n",
      " 2   Fly Ash (component 3)(kg in a m^3 mixture)             1030 non-null   float64\n",
      " 3   Water  (component 4)(kg in a m^3 mixture)              1030 non-null   float64\n",
      " 4   Superplasticizer (component 5)(kg in a m^3 mixture)    1030 non-null   float64\n",
      " 5   Coarse Aggregate  (component 6)(kg in a m^3 mixture)   1030 non-null   float64\n",
      " 6   Fine Aggregate (component 7)(kg in a m^3 mixture)      1030 non-null   float64\n",
      " 7   Age (day)                                              1030 non-null   int64  \n",
      " 8   Concrete compressive strength(MPa, megapascals)        1030 non-null   float64\n",
      "dtypes: float64(8), int64(1)\n",
      "memory usage: 72.5 KB\n"
     ]
    }
   ],
   "source": [
    "con_df.info()"
   ]
  },
  {
   "cell_type": "code",
   "execution_count": 26,
   "metadata": {},
   "outputs": [
    {
     "data": {
      "text/plain": [
       "Index(['Cement (component 1)(kg in a m^3 mixture)',\n",
       "       'Blast Furnace Slag (component 2)(kg in a m^3 mixture)',\n",
       "       'Fly Ash (component 3)(kg in a m^3 mixture)',\n",
       "       'Water  (component 4)(kg in a m^3 mixture)',\n",
       "       'Superplasticizer (component 5)(kg in a m^3 mixture)',\n",
       "       'Coarse Aggregate  (component 6)(kg in a m^3 mixture)',\n",
       "       'Fine Aggregate (component 7)(kg in a m^3 mixture)', 'Age (day)',\n",
       "       'Concrete compressive strength(MPa, megapascals) '],\n",
       "      dtype='object')"
      ]
     },
     "execution_count": 26,
     "metadata": {},
     "output_type": "execute_result"
    }
   ],
   "source": [
    "con_df.columns"
   ]
  },
  {
   "cell_type": "code",
   "execution_count": 27,
   "metadata": {},
   "outputs": [],
   "source": [
    "con_df.rename(columns = {'Cement (component 1)(kg in a m^3 mixture)':'cement',\n",
    "       'Blast Furnace Slag (component 2)(kg in a m^3 mixture)': 'slag',\n",
    "       'Fly Ash (component 3)(kg in a m^3 mixture)': 'flyash',\n",
    "       'Water  (component 4)(kg in a m^3 mixture)':'water',\n",
    "       'Superplasticizer (component 5)(kg in a m^3 mixture)':'superplasticizer',\n",
    "       'Coarse Aggregate  (component 6)(kg in a m^3 mixture)':'coarse',\n",
    "       'Fine Aggregate (component 7)(kg in a m^3 mixture)':'fine', 'Age (day)':'age',\n",
    "       'Concrete compressive strength(MPa, megapascals) ':'strength'},inplace=True)"
   ]
  },
  {
   "cell_type": "code",
   "execution_count": 28,
   "metadata": {},
   "outputs": [
    {
     "data": {
      "text/html": [
       "<div>\n",
       "<style scoped>\n",
       "    .dataframe tbody tr th:only-of-type {\n",
       "        vertical-align: middle;\n",
       "    }\n",
       "\n",
       "    .dataframe tbody tr th {\n",
       "        vertical-align: top;\n",
       "    }\n",
       "\n",
       "    .dataframe thead th {\n",
       "        text-align: right;\n",
       "    }\n",
       "</style>\n",
       "<table border=\"1\" class=\"dataframe\">\n",
       "  <thead>\n",
       "    <tr style=\"text-align: right;\">\n",
       "      <th></th>\n",
       "      <th>cement</th>\n",
       "      <th>slag</th>\n",
       "      <th>flyash</th>\n",
       "      <th>water</th>\n",
       "      <th>superplasticizer</th>\n",
       "      <th>coarse</th>\n",
       "      <th>fine</th>\n",
       "      <th>age</th>\n",
       "      <th>strength</th>\n",
       "    </tr>\n",
       "  </thead>\n",
       "  <tbody>\n",
       "    <tr>\n",
       "      <th>0</th>\n",
       "      <td>540.0</td>\n",
       "      <td>0.0</td>\n",
       "      <td>0.0</td>\n",
       "      <td>162.0</td>\n",
       "      <td>2.5</td>\n",
       "      <td>1040.0</td>\n",
       "      <td>676.0</td>\n",
       "      <td>28</td>\n",
       "      <td>79.99</td>\n",
       "    </tr>\n",
       "    <tr>\n",
       "      <th>1</th>\n",
       "      <td>540.0</td>\n",
       "      <td>0.0</td>\n",
       "      <td>0.0</td>\n",
       "      <td>162.0</td>\n",
       "      <td>2.5</td>\n",
       "      <td>1055.0</td>\n",
       "      <td>676.0</td>\n",
       "      <td>28</td>\n",
       "      <td>61.89</td>\n",
       "    </tr>\n",
       "    <tr>\n",
       "      <th>2</th>\n",
       "      <td>332.5</td>\n",
       "      <td>142.5</td>\n",
       "      <td>0.0</td>\n",
       "      <td>228.0</td>\n",
       "      <td>0.0</td>\n",
       "      <td>932.0</td>\n",
       "      <td>594.0</td>\n",
       "      <td>270</td>\n",
       "      <td>40.27</td>\n",
       "    </tr>\n",
       "    <tr>\n",
       "      <th>3</th>\n",
       "      <td>332.5</td>\n",
       "      <td>142.5</td>\n",
       "      <td>0.0</td>\n",
       "      <td>228.0</td>\n",
       "      <td>0.0</td>\n",
       "      <td>932.0</td>\n",
       "      <td>594.0</td>\n",
       "      <td>365</td>\n",
       "      <td>41.05</td>\n",
       "    </tr>\n",
       "    <tr>\n",
       "      <th>4</th>\n",
       "      <td>198.6</td>\n",
       "      <td>132.4</td>\n",
       "      <td>0.0</td>\n",
       "      <td>192.0</td>\n",
       "      <td>0.0</td>\n",
       "      <td>978.4</td>\n",
       "      <td>825.5</td>\n",
       "      <td>360</td>\n",
       "      <td>44.30</td>\n",
       "    </tr>\n",
       "  </tbody>\n",
       "</table>\n",
       "</div>"
      ],
      "text/plain": [
       "   cement   slag  flyash  water  superplasticizer  coarse   fine  age  \\\n",
       "0   540.0    0.0     0.0  162.0               2.5  1040.0  676.0   28   \n",
       "1   540.0    0.0     0.0  162.0               2.5  1055.0  676.0   28   \n",
       "2   332.5  142.5     0.0  228.0               0.0   932.0  594.0  270   \n",
       "3   332.5  142.5     0.0  228.0               0.0   932.0  594.0  365   \n",
       "4   198.6  132.4     0.0  192.0               0.0   978.4  825.5  360   \n",
       "\n",
       "   strength  \n",
       "0     79.99  \n",
       "1     61.89  \n",
       "2     40.27  \n",
       "3     41.05  \n",
       "4     44.30  "
      ]
     },
     "execution_count": 28,
     "metadata": {},
     "output_type": "execute_result"
    }
   ],
   "source": [
    "con_df.head()"
   ]
  },
  {
   "cell_type": "code",
   "execution_count": 31,
   "metadata": {},
   "outputs": [
    {
     "data": {
      "text/plain": [
       "<AxesSubplot:>"
      ]
     },
     "execution_count": 31,
     "metadata": {},
     "output_type": "execute_result"
    },
    {
     "data": {
      "image/png": "[encoded data removed]",
      "text/plain": [
       "<Figure size 720x720 with 2 Axes>"
      ]
     },
     "metadata": {
      "needs_background": "light"
     },
     "output_type": "display_data"
    }
   ],
   "source": [
    "plt.figure(figsize=(10,10))\n",
    "sns.heatmap(con_df.corr(),annot=True,cmap=\"RdYlGn\")"
   ]
  },
  {
   "cell_type": "code",
   "execution_count": 30,
   "metadata": {},
   "outputs": [
    {
     "data": {
      "text/plain": [
       "strength            1.000000\n",
       "cement              0.497832\n",
       "superplasticizer    0.366079\n",
       "age                 0.328873\n",
       "slag                0.134829\n",
       "flyash             -0.105755\n",
       "coarse             -0.164935\n",
       "fine               -0.167241\n",
       "water              -0.289633\n",
       "Name: strength, dtype: float64"
      ]
     },
     "execution_count": 30,
     "metadata": {},
     "output_type": "execute_result"
    }
   ],
   "source": [
    "con_df.corr()[\"strength\"].sort_values(ascending=False)"
   ]
  },
  {
   "cell_type": "code",
   "execution_count": 32,
   "metadata": {},
   "outputs": [],
   "source": [
    "from sklearn.model_selection import train_test_split"
   ]
  },
  {
   "cell_type": "code",
   "execution_count": 34,
   "metadata": {},
   "outputs": [],
   "source": [
    "x = (con_df.loc[:, con_df.columns != 'strength'])\n",
    "y = (con_df.loc[:, con_df.columns == 'strength'])"
   ]
  },
  {
   "cell_type": "code",
   "execution_count": 35,
   "metadata": {},
   "outputs": [],
   "source": [
    "# Split to 50% Train and 50% Test\n",
    "x_train, x_test, y_train, y_test = train_test_split(x, y, test_size=0.50, random_state=42)\n",
    "\n",
    "# Split 50% Test into further 30% Test and 20% Validation\n",
    "x_test, x_val, y_test, y_val = train_test_split(x_test, y_test, test_size=0.40, random_state=42)"
   ]
  },
  {
   "cell_type": "code",
   "execution_count": 36,
   "metadata": {},
   "outputs": [
    {
     "name": "stdout",
     "output_type": "stream",
     "text": [
      "(515, 8)\n",
      "(309, 8)\n",
      "(206, 8)\n"
     ]
    }
   ],
   "source": [
    "print(x_train.shape)\n",
    "print(x_test.shape)\n",
    "print(x_val.shape)"
   ]
  },
  {
   "cell_type": "code",
   "execution_count": 37,
   "metadata": {},
   "outputs": [
    {
     "name": "stdout",
     "output_type": "stream",
     "text": [
      "(515, 1)\n",
      "(309, 1)\n",
      "(206, 1)\n"
     ]
    }
   ],
   "source": [
    "print(y_train.shape)\n",
    "print(y_test.shape)\n",
    "print(y_val.shape)"
   ]
  },
  {
   "cell_type": "code",
   "execution_count": 38,
   "metadata": {},
   "outputs": [],
   "source": [
    "from sklearn.preprocessing import MinMaxScaler"
   ]
  },
  {
   "cell_type": "code",
   "execution_count": 39,
   "metadata": {},
   "outputs": [],
   "source": [
    "# Use MinMax Scaller to scale all features\n",
    "min_max_scaler = MinMaxScaler()"
   ]
  },
  {
   "cell_type": "code",
   "execution_count": 40,
   "metadata": {},
   "outputs": [],
   "source": [
    "x_train_s = min_max_scaler.fit_transform(x_train)\n",
    "x_test_s = min_max_scaler.fit_transform(x_test)\n",
    "x_val_s = min_max_scaler.fit_transform(x_val)\n",
    "\n",
    "y_train_s = min_max_scaler.fit_transform(y_train)\n",
    "y_test_s = min_max_scaler.fit_transform(y_test)\n",
    "y_val_s = min_max_scaler.fit_transform(y_val)"
   ]
  },
  {
   "cell_type": "code",
   "execution_count": 41,
   "metadata": {},
   "outputs": [
    {
     "name": "stdout",
     "output_type": "stream",
     "text": [
      "(515, 8)\n",
      "(309, 8)\n",
      "(206, 8)\n",
      "(515, 1)\n",
      "(309, 1)\n",
      "(206, 1)\n"
     ]
    }
   ],
   "source": [
    "print(x_train_s.shape)\n",
    "print(x_test_s.shape)\n",
    "print(x_val_s.shape)\n",
    "\n",
    "print(y_train_s.shape)\n",
    "print(y_test_s.shape)\n",
    "print(y_val_s.shape)"
   ]
  },
  {
   "cell_type": "code",
   "execution_count": 43,
   "metadata": {},
   "outputs": [],
   "source": [
    "# Build Model and Architecture of Deep Neural Network\n",
    "\n",
    "model = Sequential()  # Initialize ANN\n",
    "# Add layers of Neural Network = 4 , input_dim = number oof features\n",
    "# units = 10,8,6 is number of neurons\n",
    "model.add(Dense(units = 10, activation='relu', input_dim=8))\n",
    "model.add(Dense(units = 8, activation='relu'))\n",
    "model.add(Dense(units = 6, activation='relu'))\n",
    "model.add(Dense(units = 1, activation='relu'))"
   ]
  },
  {
   "cell_type": "code",
   "execution_count": 44,
   "metadata": {},
   "outputs": [],
   "source": [
    "# Loss Dunction measures how well the model did on training and then tries\n",
    "# to improve on it using optimizer\n",
    "model.compile(optimizer = 'rmsprop',\n",
    "             loss = 'mse',\n",
    "             metrics = ['mae'])"
   ]
  },
  {
   "cell_type": "code",
   "execution_count": 45,
   "metadata": {},
   "outputs": [
    {
     "name": "stdout",
     "output_type": "stream",
     "text": [
      "Epoch 1/100\n",
      "17/17 [==============================] - 1s 15ms/step - loss: 0.2008 - mae: 0.3909 - val_loss: 0.1493 - val_mae: 0.3197\n",
      "Epoch 2/100\n",
      "17/17 [==============================] - 0s 4ms/step - loss: 0.1351 - mae: 0.2993 - val_loss: 0.1009 - val_mae: 0.2503\n",
      "Epoch 3/100\n",
      "17/17 [==============================] - 0s 4ms/step - loss: 0.0836 - mae: 0.2266 - val_loss: 0.0708 - val_mae: 0.2096\n",
      "Epoch 4/100\n",
      "17/17 [==============================] - 0s 3ms/step - loss: 0.0652 - mae: 0.1968 - val_loss: 0.0617 - val_mae: 0.1960\n",
      "Epoch 5/100\n",
      "17/17 [==============================] - 0s 3ms/step - loss: 0.0550 - mae: 0.1827 - val_loss: 0.0576 - val_mae: 0.1898\n",
      "Epoch 6/100\n",
      "17/17 [==============================] - 0s 3ms/step - loss: 0.0511 - mae: 0.1757 - val_loss: 0.0540 - val_mae: 0.1850\n",
      "Epoch 7/100\n",
      "17/17 [==============================] - 0s 3ms/step - loss: 0.0470 - mae: 0.1712 - val_loss: 0.0506 - val_mae: 0.1799\n",
      "Epoch 8/100\n",
      "17/17 [==============================] - 0s 3ms/step - loss: 0.0442 - mae: 0.1661 - val_loss: 0.0473 - val_mae: 0.1752\n",
      "Epoch 9/100\n",
      "17/17 [==============================] - 0s 3ms/step - loss: 0.0408 - mae: 0.1609 - val_loss: 0.0451 - val_mae: 0.1713\n",
      "Epoch 10/100\n",
      "17/17 [==============================] - 0s 3ms/step - loss: 0.0398 - mae: 0.1607 - val_loss: 0.0429 - val_mae: 0.1675\n",
      "Epoch 11/100\n",
      "17/17 [==============================] - 0s 3ms/step - loss: 0.0340 - mae: 0.1463 - val_loss: 0.0403 - val_mae: 0.1621\n",
      "Epoch 12/100\n",
      "17/17 [==============================] - 0s 3ms/step - loss: 0.0333 - mae: 0.1467 - val_loss: 0.0382 - val_mae: 0.1582\n",
      "Epoch 13/100\n",
      "17/17 [==============================] - 0s 4ms/step - loss: 0.0332 - mae: 0.1479 - val_loss: 0.0358 - val_mae: 0.1520\n",
      "Epoch 14/100\n",
      "17/17 [==============================] - 0s 4ms/step - loss: 0.0311 - mae: 0.1398 - val_loss: 0.0346 - val_mae: 0.1483\n",
      "Epoch 15/100\n",
      "17/17 [==============================] - 0s 3ms/step - loss: 0.0274 - mae: 0.1346 - val_loss: 0.0328 - val_mae: 0.1442\n",
      "Epoch 16/100\n",
      "17/17 [==============================] - 0s 4ms/step - loss: 0.0274 - mae: 0.1360 - val_loss: 0.0331 - val_mae: 0.1453\n",
      "Epoch 17/100\n",
      "17/17 [==============================] - 0s 4ms/step - loss: 0.0243 - mae: 0.1256 - val_loss: 0.0302 - val_mae: 0.1362\n",
      "Epoch 18/100\n",
      "17/17 [==============================] - 0s 4ms/step - loss: 0.0238 - mae: 0.1269 - val_loss: 0.0324 - val_mae: 0.1426\n",
      "Epoch 19/100\n",
      "17/17 [==============================] - 0s 4ms/step - loss: 0.0235 - mae: 0.1254 - val_loss: 0.0290 - val_mae: 0.1322\n",
      "Epoch 20/100\n",
      "17/17 [==============================] - 0s 5ms/step - loss: 0.0204 - mae: 0.1167 - val_loss: 0.0298 - val_mae: 0.1350\n",
      "Epoch 21/100\n",
      "17/17 [==============================] - 0s 3ms/step - loss: 0.0198 - mae: 0.1141 - val_loss: 0.0286 - val_mae: 0.1319\n",
      "Epoch 22/100\n",
      "17/17 [==============================] - 0s 4ms/step - loss: 0.0200 - mae: 0.1143 - val_loss: 0.0281 - val_mae: 0.1309\n",
      "Epoch 23/100\n",
      "17/17 [==============================] - 0s 4ms/step - loss: 0.0188 - mae: 0.1105 - val_loss: 0.0268 - val_mae: 0.1274\n",
      "Epoch 24/100\n",
      "17/17 [==============================] - 0s 4ms/step - loss: 0.0209 - mae: 0.1178 - val_loss: 0.0274 - val_mae: 0.1291\n",
      "Epoch 25/100\n",
      "17/17 [==============================] - 0s 4ms/step - loss: 0.0200 - mae: 0.1167 - val_loss: 0.0254 - val_mae: 0.1232\n",
      "Epoch 26/100\n",
      "17/17 [==============================] - 0s 3ms/step - loss: 0.0184 - mae: 0.1104 - val_loss: 0.0261 - val_mae: 0.1237\n",
      "Epoch 27/100\n",
      "17/17 [==============================] - 0s 3ms/step - loss: 0.0175 - mae: 0.1056 - val_loss: 0.0255 - val_mae: 0.1223\n",
      "Epoch 28/100\n",
      "17/17 [==============================] - 0s 3ms/step - loss: 0.0168 - mae: 0.1058 - val_loss: 0.0250 - val_mae: 0.1212\n",
      "Epoch 29/100\n",
      "17/17 [==============================] - 0s 3ms/step - loss: 0.0180 - mae: 0.1081 - val_loss: 0.0249 - val_mae: 0.1205\n",
      "Epoch 30/100\n",
      "17/17 [==============================] - 0s 3ms/step - loss: 0.0183 - mae: 0.1106 - val_loss: 0.0241 - val_mae: 0.1191\n",
      "Epoch 31/100\n",
      "17/17 [==============================] - 0s 3ms/step - loss: 0.0155 - mae: 0.0999 - val_loss: 0.0249 - val_mae: 0.1202\n",
      "Epoch 32/100\n",
      "17/17 [==============================] - 0s 3ms/step - loss: 0.0164 - mae: 0.1026 - val_loss: 0.0244 - val_mae: 0.1190\n",
      "Epoch 33/100\n",
      "17/17 [==============================] - 0s 3ms/step - loss: 0.0167 - mae: 0.1040 - val_loss: 0.0234 - val_mae: 0.1175\n",
      "Epoch 34/100\n",
      "17/17 [==============================] - 0s 4ms/step - loss: 0.0157 - mae: 0.1002 - val_loss: 0.0229 - val_mae: 0.1159\n",
      "Epoch 35/100\n",
      "17/17 [==============================] - 0s 4ms/step - loss: 0.0164 - mae: 0.1042 - val_loss: 0.0241 - val_mae: 0.1210\n",
      "Epoch 36/100\n",
      "17/17 [==============================] - 0s 4ms/step - loss: 0.0138 - mae: 0.0932 - val_loss: 0.0242 - val_mae: 0.1212\n",
      "Epoch 37/100\n",
      "17/17 [==============================] - 0s 4ms/step - loss: 0.0147 - mae: 0.0968 - val_loss: 0.0222 - val_mae: 0.1150\n",
      "Epoch 38/100\n",
      "17/17 [==============================] - 0s 4ms/step - loss: 0.0145 - mae: 0.0974 - val_loss: 0.0242 - val_mae: 0.1212\n",
      "Epoch 39/100\n",
      "17/17 [==============================] - 0s 4ms/step - loss: 0.0153 - mae: 0.0978 - val_loss: 0.0232 - val_mae: 0.1187\n",
      "Epoch 40/100\n",
      "17/17 [==============================] - 0s 4ms/step - loss: 0.0141 - mae: 0.0952 - val_loss: 0.0222 - val_mae: 0.1155\n",
      "Epoch 41/100\n",
      "17/17 [==============================] - 0s 3ms/step - loss: 0.0139 - mae: 0.0922 - val_loss: 0.0217 - val_mae: 0.1127\n",
      "Epoch 42/100\n",
      "17/17 [==============================] - 0s 4ms/step - loss: 0.0126 - mae: 0.0887 - val_loss: 0.0254 - val_mae: 0.1249\n",
      "Epoch 43/100\n",
      "17/17 [==============================] - 0s 4ms/step - loss: 0.0140 - mae: 0.0956 - val_loss: 0.0213 - val_mae: 0.1117\n",
      "Epoch 44/100\n",
      "17/17 [==============================] - 0s 4ms/step - loss: 0.0147 - mae: 0.0965 - val_loss: 0.0212 - val_mae: 0.1104\n",
      "Epoch 45/100\n",
      "17/17 [==============================] - 0s 3ms/step - loss: 0.0131 - mae: 0.0912 - val_loss: 0.0213 - val_mae: 0.1129\n",
      "Epoch 46/100\n",
      "17/17 [==============================] - 0s 3ms/step - loss: 0.0136 - mae: 0.0923 - val_loss: 0.0204 - val_mae: 0.1088\n",
      "Epoch 47/100\n",
      "17/17 [==============================] - 0s 3ms/step - loss: 0.0132 - mae: 0.0907 - val_loss: 0.0216 - val_mae: 0.1148\n",
      "Epoch 48/100\n",
      "17/17 [==============================] - 0s 3ms/step - loss: 0.0133 - mae: 0.0908 - val_loss: 0.0213 - val_mae: 0.1136\n",
      "Epoch 49/100\n",
      "17/17 [==============================] - 0s 3ms/step - loss: 0.0142 - mae: 0.0925 - val_loss: 0.0205 - val_mae: 0.1093\n",
      "Epoch 50/100\n",
      "17/17 [==============================] - 0s 3ms/step - loss: 0.0126 - mae: 0.0873 - val_loss: 0.0201 - val_mae: 0.1088\n",
      "Epoch 51/100\n",
      "17/17 [==============================] - 0s 3ms/step - loss: 0.0118 - mae: 0.0863 - val_loss: 0.0197 - val_mae: 0.1077\n",
      "Epoch 52/100\n",
      "17/17 [==============================] - 0s 3ms/step - loss: 0.0129 - mae: 0.0890 - val_loss: 0.0227 - val_mae: 0.1192\n",
      "Epoch 53/100\n",
      "17/17 [==============================] - 0s 3ms/step - loss: 0.0126 - mae: 0.0878 - val_loss: 0.0197 - val_mae: 0.1092\n",
      "Epoch 54/100\n",
      "17/17 [==============================] - 0s 3ms/step - loss: 0.0115 - mae: 0.0842 - val_loss: 0.0203 - val_mae: 0.1059\n",
      "Epoch 55/100\n",
      "17/17 [==============================] - 0s 3ms/step - loss: 0.0127 - mae: 0.0874 - val_loss: 0.0200 - val_mae: 0.1104\n",
      "Epoch 56/100\n",
      "17/17 [==============================] - 0s 3ms/step - loss: 0.0119 - mae: 0.0849 - val_loss: 0.0193 - val_mae: 0.1076\n",
      "Epoch 57/100\n",
      "17/17 [==============================] - 0s 3ms/step - loss: 0.0119 - mae: 0.0845 - val_loss: 0.0204 - val_mae: 0.1056\n",
      "Epoch 58/100\n",
      "17/17 [==============================] - 0s 3ms/step - loss: 0.0125 - mae: 0.0860 - val_loss: 0.0192 - val_mae: 0.1036\n",
      "Epoch 59/100\n",
      "17/17 [==============================] - 0s 3ms/step - loss: 0.0118 - mae: 0.0844 - val_loss: 0.0188 - val_mae: 0.1047\n",
      "Epoch 60/100\n",
      "17/17 [==============================] - 0s 3ms/step - loss: 0.0119 - mae: 0.0836 - val_loss: 0.0189 - val_mae: 0.1025\n",
      "Epoch 61/100\n",
      "17/17 [==============================] - 0s 3ms/step - loss: 0.0115 - mae: 0.0832 - val_loss: 0.0196 - val_mae: 0.1033\n",
      "Epoch 62/100\n",
      "17/17 [==============================] - 0s 3ms/step - loss: 0.0125 - mae: 0.0870 - val_loss: 0.0178 - val_mae: 0.1022\n",
      "Epoch 63/100\n"
     ]
    },
    {
     "name": "stdout",
     "output_type": "stream",
     "text": [
      "17/17 [==============================] - 0s 3ms/step - loss: 0.0117 - mae: 0.0829 - val_loss: 0.0184 - val_mae: 0.1062\n",
      "Epoch 64/100\n",
      "17/17 [==============================] - 0s 3ms/step - loss: 0.0115 - mae: 0.0819 - val_loss: 0.0179 - val_mae: 0.1002\n",
      "Epoch 65/100\n",
      "17/17 [==============================] - 0s 3ms/step - loss: 0.0112 - mae: 0.0816 - val_loss: 0.0198 - val_mae: 0.1116\n",
      "Epoch 66/100\n",
      "17/17 [==============================] - 0s 3ms/step - loss: 0.0111 - mae: 0.0819 - val_loss: 0.0174 - val_mae: 0.0992\n",
      "Epoch 67/100\n",
      "17/17 [==============================] - 0s 4ms/step - loss: 0.0095 - mae: 0.0756 - val_loss: 0.0182 - val_mae: 0.0995\n",
      "Epoch 68/100\n",
      "17/17 [==============================] - 0s 3ms/step - loss: 0.0109 - mae: 0.0812 - val_loss: 0.0187 - val_mae: 0.1084\n",
      "Epoch 69/100\n",
      "17/17 [==============================] - 0s 3ms/step - loss: 0.0103 - mae: 0.0785 - val_loss: 0.0184 - val_mae: 0.1075\n",
      "Epoch 70/100\n",
      "17/17 [==============================] - 0s 3ms/step - loss: 0.0114 - mae: 0.0831 - val_loss: 0.0165 - val_mae: 0.0974\n",
      "Epoch 71/100\n",
      "17/17 [==============================] - 0s 3ms/step - loss: 0.0102 - mae: 0.0776 - val_loss: 0.0165 - val_mae: 0.0962\n",
      "Epoch 72/100\n",
      "17/17 [==============================] - 0s 3ms/step - loss: 0.0092 - mae: 0.0733 - val_loss: 0.0165 - val_mae: 0.0962\n",
      "Epoch 73/100\n",
      "17/17 [==============================] - 0s 2ms/step - loss: 0.0101 - mae: 0.0759 - val_loss: 0.0171 - val_mae: 0.1031\n",
      "Epoch 74/100\n",
      "17/17 [==============================] - 0s 3ms/step - loss: 0.0089 - mae: 0.0733 - val_loss: 0.0168 - val_mae: 0.1018\n",
      "Epoch 75/100\n",
      "17/17 [==============================] - 0s 4ms/step - loss: 0.0105 - mae: 0.0787 - val_loss: 0.0165 - val_mae: 0.1007\n",
      "Epoch 76/100\n",
      "17/17 [==============================] - 0s 3ms/step - loss: 0.0095 - mae: 0.0752 - val_loss: 0.0168 - val_mae: 0.0959\n",
      "Epoch 77/100\n",
      "17/17 [==============================] - 0s 4ms/step - loss: 0.0108 - mae: 0.0805 - val_loss: 0.0156 - val_mae: 0.0966\n",
      "Epoch 78/100\n",
      "17/17 [==============================] - 0s 2ms/step - loss: 0.0087 - mae: 0.0718 - val_loss: 0.0174 - val_mae: 0.0974\n",
      "Epoch 79/100\n",
      "17/17 [==============================] - 0s 3ms/step - loss: 0.0101 - mae: 0.0791 - val_loss: 0.0157 - val_mae: 0.0986\n",
      "Epoch 80/100\n",
      "17/17 [==============================] - 0s 3ms/step - loss: 0.0098 - mae: 0.0776 - val_loss: 0.0151 - val_mae: 0.0954\n",
      "Epoch 81/100\n",
      "17/17 [==============================] - 0s 4ms/step - loss: 0.0090 - mae: 0.0727 - val_loss: 0.0155 - val_mae: 0.0928\n",
      "Epoch 82/100\n",
      "17/17 [==============================] - 0s 3ms/step - loss: 0.0088 - mae: 0.0724 - val_loss: 0.0147 - val_mae: 0.0926\n",
      "Epoch 83/100\n",
      "17/17 [==============================] - 0s 3ms/step - loss: 0.0086 - mae: 0.0720 - val_loss: 0.0154 - val_mae: 0.0923\n",
      "Epoch 84/100\n",
      "17/17 [==============================] - 0s 3ms/step - loss: 0.0091 - mae: 0.0740 - val_loss: 0.0146 - val_mae: 0.0934\n",
      "Epoch 85/100\n",
      "17/17 [==============================] - 0s 3ms/step - loss: 0.0094 - mae: 0.0744 - val_loss: 0.0145 - val_mae: 0.0906\n",
      "Epoch 86/100\n",
      "17/17 [==============================] - 0s 3ms/step - loss: 0.0092 - mae: 0.0727 - val_loss: 0.0156 - val_mae: 0.0928\n",
      "Epoch 87/100\n",
      "17/17 [==============================] - 0s 4ms/step - loss: 0.0092 - mae: 0.0725 - val_loss: 0.0140 - val_mae: 0.0924\n",
      "Epoch 88/100\n",
      "17/17 [==============================] - 0s 3ms/step - loss: 0.0085 - mae: 0.0717 - val_loss: 0.0141 - val_mae: 0.0931\n",
      "Epoch 89/100\n",
      "17/17 [==============================] - ETA: 0s - loss: 0.0075 - mae: 0.068 - 0s 4ms/step - loss: 0.0079 - mae: 0.0697 - val_loss: 0.0139 - val_mae: 0.0899\n",
      "Epoch 90/100\n",
      "17/17 [==============================] - 0s 4ms/step - loss: 0.0086 - mae: 0.0701 - val_loss: 0.0158 - val_mae: 0.0998\n",
      "Epoch 91/100\n",
      "17/17 [==============================] - 0s 4ms/step - loss: 0.0090 - mae: 0.0741 - val_loss: 0.0145 - val_mae: 0.0949\n",
      "Epoch 92/100\n",
      "17/17 [==============================] - 0s 4ms/step - loss: 0.0086 - mae: 0.0712 - val_loss: 0.0152 - val_mae: 0.0919\n",
      "Epoch 93/100\n",
      "17/17 [==============================] - 0s 4ms/step - loss: 0.0087 - mae: 0.0724 - val_loss: 0.0140 - val_mae: 0.0930\n",
      "Epoch 94/100\n",
      "17/17 [==============================] - 0s 5ms/step - loss: 0.0080 - mae: 0.0698 - val_loss: 0.0135 - val_mae: 0.0874\n",
      "Epoch 95/100\n",
      "17/17 [==============================] - 0s 4ms/step - loss: 0.0080 - mae: 0.0702 - val_loss: 0.0134 - val_mae: 0.0907\n",
      "Epoch 96/100\n",
      "17/17 [==============================] - 0s 4ms/step - loss: 0.0083 - mae: 0.0707 - val_loss: 0.0133 - val_mae: 0.0898\n",
      "Epoch 97/100\n",
      "17/17 [==============================] - 0s 3ms/step - loss: 0.0082 - mae: 0.0691 - val_loss: 0.0132 - val_mae: 0.0864\n",
      "Epoch 98/100\n",
      "17/17 [==============================] - 0s 4ms/step - loss: 0.0074 - mae: 0.0671 - val_loss: 0.0137 - val_mae: 0.0877\n",
      "Epoch 99/100\n",
      "17/17 [==============================] - 0s 4ms/step - loss: 0.0076 - mae: 0.0682 - val_loss: 0.0132 - val_mae: 0.0865\n",
      "Epoch 100/100\n",
      "17/17 [==============================] - 0s 3ms/step - loss: 0.0079 - mae: 0.0684 - val_loss: 0.0136 - val_mae: 0.0876\n"
     ]
    },
    {
     "data": {
      "text/plain": [
       "<tensorflow.python.keras.callbacks.History at 0x16be9bf79d0>"
      ]
     },
     "execution_count": 45,
     "metadata": {},
     "output_type": "execute_result"
    }
   ],
   "source": [
    "model.fit(\n",
    "    x_train_s, y_train_s, epochs = 100,\n",
    "    validation_data = (x_val_s, y_val_s)\n",
    ")"
   ]
  },
  {
   "cell_type": "code",
   "execution_count": 46,
   "metadata": {},
   "outputs": [
    {
     "name": "stdout",
     "output_type": "stream",
     "text": [
      "10/10 [==============================] - 0s 731us/step - loss: 0.0111 - mae: 0.0804\n"
     ]
    },
    {
     "data": {
      "text/plain": [
       "[0.011126205325126648, 0.08042632788419724]"
      ]
     },
     "execution_count": 46,
     "metadata": {},
     "output_type": "execute_result"
    }
   ],
   "source": [
    "model.evaluate(x_test_s, y_test_s)"
   ]
  },
  {
   "cell_type": "code",
   "execution_count": 47,
   "metadata": {},
   "outputs": [],
   "source": [
    "predictions = model.predict(x_test_s)\n",
    "predictions = min_max_scaler.inverse_transform(predictions)"
   ]
  },
  {
   "cell_type": "code",
   "execution_count": 48,
   "metadata": {},
   "outputs": [
    {
     "name": "stdout",
     "output_type": "stream",
     "text": [
      "309\n",
      "309\n"
     ]
    }
   ],
   "source": [
    "print(len(predictions))\n",
    "print(len(x_test_s))"
   ]
  },
  {
   "cell_type": "code",
   "execution_count": 49,
   "metadata": {},
   "outputs": [
    {
     "data": {
      "text/plain": [
       "array([[17.069925 ],\n",
       "       [19.855509 ],\n",
       "       [36.89779  ],\n",
       "       [41.707767 ],\n",
       "       [51.65959  ],\n",
       "       [63.912785 ],\n",
       "       [41.691135 ],\n",
       "       [13.911135 ],\n",
       "       [37.06393  ],\n",
       "       [15.846306 ],\n",
       "       [50.828842 ],\n",
       "       [35.157387 ],\n",
       "       [24.7514   ],\n",
       "       [53.61712  ],\n",
       "       [52.063137 ],\n",
       "       [25.605017 ],\n",
       "       [34.534653 ],\n",
       "       [31.613424 ],\n",
       "       [50.137917 ],\n",
       "       [33.086838 ],\n",
       "       [32.78004  ],\n",
       "       [42.00757  ],\n",
       "       [34.594303 ],\n",
       "       [42.312183 ],\n",
       "       [44.005753 ],\n",
       "       [54.002678 ],\n",
       "       [30.97351  ],\n",
       "       [36.356678 ],\n",
       "       [21.802755 ],\n",
       "       [47.263607 ],\n",
       "       [55.270653 ],\n",
       "       [27.713097 ],\n",
       "       [38.69556  ],\n",
       "       [27.556118 ],\n",
       "       [43.324055 ],\n",
       "       [41.447727 ],\n",
       "       [52.045654 ],\n",
       "       [27.376205 ],\n",
       "       [20.67542  ],\n",
       "       [13.659367 ],\n",
       "       [20.275904 ],\n",
       "       [52.503838 ],\n",
       "       [42.23975  ],\n",
       "       [17.545872 ],\n",
       "       [41.7088   ],\n",
       "       [29.646227 ],\n",
       "       [42.737354 ],\n",
       "       [34.376675 ],\n",
       "       [23.48111  ],\n",
       "       [54.32927  ],\n",
       "       [34.740776 ],\n",
       "       [27.915985 ],\n",
       "       [17.050123 ],\n",
       "       [23.452816 ],\n",
       "       [27.868744 ],\n",
       "       [29.59229  ],\n",
       "       [34.905716 ],\n",
       "       [41.82407  ],\n",
       "       [19.83044  ],\n",
       "       [16.90853  ],\n",
       "       [30.818693 ],\n",
       "       [37.048374 ],\n",
       "       [40.08511  ],\n",
       "       [21.137823 ],\n",
       "       [34.299923 ],\n",
       "       [16.625166 ],\n",
       "       [43.68056  ],\n",
       "       [33.87195  ],\n",
       "       [40.23031  ],\n",
       "       [38.7647   ],\n",
       "       [46.278    ],\n",
       "       [18.181967 ],\n",
       "       [71.7705   ],\n",
       "       [76.54168  ],\n",
       "       [41.44263  ],\n",
       "       [53.61712  ],\n",
       "       [45.602146 ],\n",
       "       [20.664228 ],\n",
       "       [28.902807 ],\n",
       "       [39.72618  ],\n",
       "       [17.821253 ],\n",
       "       [19.022842 ],\n",
       "       [34.15083  ],\n",
       "       [63.912785 ],\n",
       "       [37.94528  ],\n",
       "       [26.677519 ],\n",
       "       [24.125244 ],\n",
       "       [22.903141 ],\n",
       "       [58.476357 ],\n",
       "       [23.857698 ],\n",
       "       [18.989779 ],\n",
       "       [13.187703 ],\n",
       "       [27.357576 ],\n",
       "       [25.177557 ],\n",
       "       [27.113115 ],\n",
       "       [27.390701 ],\n",
       "       [44.889835 ],\n",
       "       [40.663994 ],\n",
       "       [49.273586 ],\n",
       "       [30.039278 ],\n",
       "       [27.886189 ],\n",
       "       [55.023857 ],\n",
       "       [41.22076  ],\n",
       "       [43.608334 ],\n",
       "       [26.611647 ],\n",
       "       [51.0537   ],\n",
       "       [26.191494 ],\n",
       "       [17.952084 ],\n",
       "       [18.096027 ],\n",
       "       [35.711586 ],\n",
       "       [59.839436 ],\n",
       "       [30.800295 ],\n",
       "       [57.34234  ],\n",
       "       [51.733456 ],\n",
       "       [52.278694 ],\n",
       "       [50.209667 ],\n",
       "       [52.898983 ],\n",
       "       [22.64962  ],\n",
       "       [42.641514 ],\n",
       "       [32.267467 ],\n",
       "       [25.829865 ],\n",
       "       [72.63208  ],\n",
       "       [71.555824 ],\n",
       "       [19.800484 ],\n",
       "       [12.577909 ],\n",
       "       [15.146943 ],\n",
       "       [22.169043 ],\n",
       "       [36.14199  ],\n",
       "       [52.503838 ],\n",
       "       [56.71939  ],\n",
       "       [22.778585 ],\n",
       "       [ 9.6918545],\n",
       "       [51.57802  ],\n",
       "       [59.929317 ],\n",
       "       [34.7126   ],\n",
       "       [48.032276 ],\n",
       "       [34.09968  ],\n",
       "       [16.911648 ],\n",
       "       [75.10963  ],\n",
       "       [42.701027 ],\n",
       "       [48.988293 ],\n",
       "       [45.34634  ],\n",
       "       [43.8653   ],\n",
       "       [31.367071 ],\n",
       "       [53.34546  ],\n",
       "       [56.713875 ],\n",
       "       [31.34586  ],\n",
       "       [52.030273 ],\n",
       "       [14.952125 ],\n",
       "       [13.388438 ],\n",
       "       [28.673725 ],\n",
       "       [38.189445 ],\n",
       "       [12.626668 ],\n",
       "       [45.6461   ],\n",
       "       [26.786102 ],\n",
       "       [22.202002 ],\n",
       "       [13.407012 ],\n",
       "       [31.938694 ],\n",
       "       [27.223185 ],\n",
       "       [26.620401 ],\n",
       "       [42.97273  ],\n",
       "       [32.961636 ],\n",
       "       [44.61196  ],\n",
       "       [53.821564 ],\n",
       "       [19.493744 ],\n",
       "       [24.141455 ],\n",
       "       [29.386127 ],\n",
       "       [13.115306 ],\n",
       "       [18.006956 ],\n",
       "       [50.357162 ],\n",
       "       [49.194798 ],\n",
       "       [36.309536 ],\n",
       "       [32.67685  ],\n",
       "       [40.481224 ],\n",
       "       [55.479774 ],\n",
       "       [51.80365  ],\n",
       "       [11.773168 ],\n",
       "       [15.337804 ],\n",
       "       [18.513348 ],\n",
       "       [29.692104 ],\n",
       "       [48.831562 ],\n",
       "       [27.61758  ],\n",
       "       [48.181435 ],\n",
       "       [22.74514  ],\n",
       "       [44.47312  ],\n",
       "       [47.353745 ],\n",
       "       [41.197197 ],\n",
       "       [54.828487 ],\n",
       "       [28.31746  ],\n",
       "       [17.87949  ],\n",
       "       [35.406704 ],\n",
       "       [25.884218 ],\n",
       "       [17.930706 ],\n",
       "       [18.47754  ],\n",
       "       [28.828056 ],\n",
       "       [15.209609 ],\n",
       "       [75.10963  ],\n",
       "       [48.360256 ],\n",
       "       [23.563286 ],\n",
       "       [16.876526 ],\n",
       "       [28.905092 ],\n",
       "       [33.027992 ],\n",
       "       [42.61156  ],\n",
       "       [31.990479 ],\n",
       "       [39.862484 ],\n",
       "       [44.96149  ],\n",
       "       [34.33638  ],\n",
       "       [27.46068  ],\n",
       "       [44.543884 ],\n",
       "       [27.51604  ],\n",
       "       [27.75739  ],\n",
       "       [45.383327 ],\n",
       "       [54.252426 ],\n",
       "       [40.428375 ],\n",
       "       [51.982346 ],\n",
       "       [59.839436 ],\n",
       "       [51.073185 ],\n",
       "       [47.777637 ],\n",
       "       [37.167164 ],\n",
       "       [65.289894 ],\n",
       "       [35.257397 ],\n",
       "       [24.698727 ],\n",
       "       [27.276522 ],\n",
       "       [10.248084 ],\n",
       "       [24.868902 ],\n",
       "       [15.793555 ],\n",
       "       [54.32927  ],\n",
       "       [49.884304 ],\n",
       "       [11.268617 ],\n",
       "       [15.387287 ],\n",
       "       [18.834139 ],\n",
       "       [44.121597 ],\n",
       "       [40.207493 ],\n",
       "       [22.35706  ],\n",
       "       [36.651764 ],\n",
       "       [26.765884 ],\n",
       "       [ 9.998872 ],\n",
       "       [33.94044  ],\n",
       "       [72.217384 ],\n",
       "       [20.277748 ],\n",
       "       [25.339476 ],\n",
       "       [28.618793 ],\n",
       "       [26.788385 ],\n",
       "       [15.276348 ],\n",
       "       [38.764038 ],\n",
       "       [47.50462  ],\n",
       "       [13.291352 ],\n",
       "       [21.593124 ],\n",
       "       [83.19552  ],\n",
       "       [28.874352 ],\n",
       "       [44.03132  ],\n",
       "       [19.63463  ],\n",
       "       [19.57657  ],\n",
       "       [12.267058 ],\n",
       "       [39.10341  ],\n",
       "       [18.528242 ],\n",
       "       [22.398592 ],\n",
       "       [25.211554 ],\n",
       "       [43.16212  ],\n",
       "       [16.559223 ],\n",
       "       [48.45081  ],\n",
       "       [39.25074  ],\n",
       "       [41.409683 ],\n",
       "       [15.769095 ],\n",
       "       [15.657152 ],\n",
       "       [45.82034  ],\n",
       "       [28.657822 ],\n",
       "       [29.790222 ],\n",
       "       [22.95381  ],\n",
       "       [34.830524 ],\n",
       "       [59.839436 ],\n",
       "       [24.128872 ],\n",
       "       [11.529012 ],\n",
       "       [40.85834  ],\n",
       "       [34.99247  ],\n",
       "       [45.259594 ],\n",
       "       [41.017284 ],\n",
       "       [23.407196 ],\n",
       "       [13.6441965],\n",
       "       [45.375854 ],\n",
       "       [33.000378 ],\n",
       "       [48.17802  ],\n",
       "       [57.9309   ],\n",
       "       [19.494394 ],\n",
       "       [77.04429  ],\n",
       "       [47.59549  ],\n",
       "       [31.822403 ],\n",
       "       [16.527294 ],\n",
       "       [54.25342  ],\n",
       "       [15.611456 ],\n",
       "       [11.500462 ],\n",
       "       [17.756882 ],\n",
       "       [36.8035   ],\n",
       "       [36.858368 ],\n",
       "       [34.244633 ],\n",
       "       [37.914963 ],\n",
       "       [16.16986  ],\n",
       "       [21.193186 ],\n",
       "       [37.358974 ],\n",
       "       [42.488453 ],\n",
       "       [31.527573 ],\n",
       "       [54.32927  ],\n",
       "       [39.10157  ],\n",
       "       [47.766655 ],\n",
       "       [19.17467  ],\n",
       "       [53.641407 ],\n",
       "       [17.026638 ],\n",
       "       [32.487984 ],\n",
       "       [42.53247  ]], dtype=float32)"
      ]
     },
     "execution_count": 49,
     "metadata": {},
     "output_type": "execute_result"
    }
   ],
   "source": [
    "predictions"
   ]
  },
  {
   "cell_type": "code",
   "execution_count": 50,
   "metadata": {},
   "outputs": [
    {
     "data": {
      "text/plain": [
       "array([24.45, 22.72, 40.29, 34.9 , 44.52, 71.3 , 43.57, 15.04, 41.67,\n",
       "       21.26, 55.06, 39.59, 24.  , 66.78, 53.3 , 25.73, 30.88, 26.14,\n",
       "       51.06, 29.72, 35.75, 53.52, 28.99, 49.77, 55.55, 67.7 , 25.12,\n",
       "       38.46, 17.6 , 43.58, 36.3 , 34.67, 43.25, 31.64, 60.32, 37.36,\n",
       "       57.23, 24.34, 20.73, 14.6 , 19.77, 35.3 , 51.04, 20.08, 38.8 ,\n",
       "       23.69, 23.35, 31.54, 15.69, 55.9 , 48.28, 31.27, 13.66, 13.46,\n",
       "       19.99, 24.58, 26.86, 37.43, 13.2 , 13.29, 26.32, 29.98, 53.46,\n",
       "       31.35, 31.25,  7.32, 34.56, 45.71, 23.85, 51.43, 32.72, 18.75,\n",
       "       76.8 , 79.3 , 36.3 , 68.75, 39.29, 29.59, 31.12, 43.5 , 17.54,\n",
       "       17.54, 37.42, 71.3 , 32.4 , 31.81, 25.22, 23.52, 63.53, 17.95,\n",
       "       17.58, 11.41, 32.66, 23.74, 28.63, 30.28, 36.45, 46.93, 67.31,\n",
       "       37.81, 33.95, 79.99, 42.13, 43.89, 33.27, 33.4 , 31.74, 15.09,\n",
       "       21.54, 39.05, 61.07, 19.77, 67.11, 41.05, 43.7 , 41.3 , 49.2 ,\n",
       "       22.95, 29.59, 30.12, 12.79, 77.3 , 71.7 , 13.09, 10.03, 21.6 ,\n",
       "       18.03, 39.09, 35.3 , 55.16, 22.44,  6.47, 52.42, 40.2 , 33.02,\n",
       "       52.96, 51.33, 23.08, 65.2 , 47.1 , 76.24, 50.66, 47.78, 32.82,\n",
       "       33.69, 39.23, 29.87, 52.43,  6.28, 10.54, 31.88, 27.68, 10.22,\n",
       "       51.72, 40.15, 13.18, 10.54, 32.88, 21.48, 25.45, 47.13, 35.85,\n",
       "       48.59, 43.7 , 16.89, 19.11, 36.56,  4.57, 13.52, 36.15, 51.86,\n",
       "       28.8 , 46.39, 47.71, 56.63, 41.05, 25.48, 19.93, 23.4 , 44.87,\n",
       "       33.4 , 35.23, 33.7 , 22.5 , 35.34, 40.27, 42.14, 50.94, 37.4 ,\n",
       "       15.53, 30.45, 33.  , 15.52, 33.01, 23.84, 15.58, 65.2 , 51.73,\n",
       "       14.7 , 13.29, 23.84, 24.39, 33.54, 21.86, 28.1 , 62.05, 18.29,\n",
       "       38.5 , 38.02, 45.94, 33.66, 53.96, 69.84, 39.45, 42.13, 56.14,\n",
       "       56.7 , 50.24, 36.97, 66.  , 34.77, 25.72, 17.84, 10.34, 12.37,\n",
       "       17.22, 55.9 , 54.32, 11.36,  4.83,  9.69, 44.21, 35.17, 14.94,\n",
       "       39.27, 31.42,  2.33, 39.94, 75.5 , 19.69, 23.22, 29.41, 33.06,\n",
       "       13.82, 43.38, 49.8 , 13.36, 21.5 , 82.6 , 32.04, 41.54, 12.18,\n",
       "       15.52,  8.2 , 32.33, 22.35, 25.57, 35.23, 64.02, 15.03, 57.21,\n",
       "       24.44, 36.35, 14.99, 17.24, 57.92, 49.25, 30.22, 21.02, 31.72,\n",
       "       55.25, 21.75, 11.48, 34.49, 37.26, 37.96, 33.76, 13.46, 14.64,\n",
       "       28.3 , 41.2 , 37.68, 40.6 , 12.46, 68.1 , 46.68, 26.15, 17.57,\n",
       "       66.82, 14.8 , 11.47, 15.09, 55.51, 32.92, 33.94, 33.72, 19.52,\n",
       "       33.7 , 39.7 , 40.56, 26.94, 22.9 , 31.38, 24.1 , 24.05, 56.81,\n",
       "       13.33, 38.21, 36.25])"
      ]
     },
     "execution_count": 50,
     "metadata": {},
     "output_type": "execute_result"
    }
   ],
   "source": [
    "y_test['strength'].values"
   ]
  },
  {
   "cell_type": "code",
   "execution_count": 51,
   "metadata": {},
   "outputs": [
    {
     "name": "stdout",
     "output_type": "stream",
     "text": [
      "0.5159287208878107\n"
     ]
    }
   ],
   "source": [
    "# Get Root Mean Squared Error (RMSE), lower the better\n",
    "rmse = np.sqrt( np.mean(predictions - y_test['strength'].values) **2 )\n",
    "print(rmse)"
   ]
  },
  {
   "cell_type": "code",
   "execution_count": 53,
   "metadata": {},
   "outputs": [],
   "source": [
    "y_train['Type'] = 'Train'"
   ]
  },
  {
   "cell_type": "code",
   "execution_count": 54,
   "metadata": {},
   "outputs": [],
   "source": [
    "y_test['Type'] = 'Test'"
   ]
  },
  {
   "cell_type": "code",
   "execution_count": 55,
   "metadata": {},
   "outputs": [],
   "source": [
    "pred = pd.DataFrame(data = predictions,index = y_test.index, columns=['Predcited Strength'])"
   ]
  },
  {
   "cell_type": "code",
   "execution_count": 56,
   "metadata": {},
   "outputs": [],
   "source": [
    "plot = pd.DataFrame()\n",
    "plot = pd.concat([y_train,y_test])\n",
    "plot = plot.merge(pred,how='left',left_index=True, right_index=True)"
   ]
  },
  {
   "cell_type": "code",
   "execution_count": 57,
   "metadata": {},
   "outputs": [
    {
     "data": {
      "text/html": [
       "<div>\n",
       "<style scoped>\n",
       "    .dataframe tbody tr th:only-of-type {\n",
       "        vertical-align: middle;\n",
       "    }\n",
       "\n",
       "    .dataframe tbody tr th {\n",
       "        vertical-align: top;\n",
       "    }\n",
       "\n",
       "    .dataframe thead th {\n",
       "        text-align: right;\n",
       "    }\n",
       "</style>\n",
       "<table border=\"1\" class=\"dataframe\">\n",
       "  <thead>\n",
       "    <tr style=\"text-align: right;\">\n",
       "      <th></th>\n",
       "      <th>strength</th>\n",
       "      <th>Type</th>\n",
       "      <th>Predcited Strength</th>\n",
       "    </tr>\n",
       "  </thead>\n",
       "  <tbody>\n",
       "    <tr>\n",
       "      <th>417</th>\n",
       "      <td>12.18</td>\n",
       "      <td>Train</td>\n",
       "      <td>NaN</td>\n",
       "    </tr>\n",
       "    <tr>\n",
       "      <th>89</th>\n",
       "      <td>39.30</td>\n",
       "      <td>Train</td>\n",
       "      <td>NaN</td>\n",
       "    </tr>\n",
       "    <tr>\n",
       "      <th>958</th>\n",
       "      <td>49.77</td>\n",
       "      <td>Train</td>\n",
       "      <td>NaN</td>\n",
       "    </tr>\n",
       "    <tr>\n",
       "      <th>901</th>\n",
       "      <td>29.87</td>\n",
       "      <td>Train</td>\n",
       "      <td>NaN</td>\n",
       "    </tr>\n",
       "    <tr>\n",
       "      <th>633</th>\n",
       "      <td>14.20</td>\n",
       "      <td>Train</td>\n",
       "      <td>NaN</td>\n",
       "    </tr>\n",
       "    <tr>\n",
       "      <th>...</th>\n",
       "      <td>...</td>\n",
       "      <td>...</td>\n",
       "      <td>...</td>\n",
       "    </tr>\n",
       "    <tr>\n",
       "      <th>682</th>\n",
       "      <td>24.05</td>\n",
       "      <td>Test</td>\n",
       "      <td>19.174669</td>\n",
       "    </tr>\n",
       "    <tr>\n",
       "      <th>464</th>\n",
       "      <td>56.81</td>\n",
       "      <td>Test</td>\n",
       "      <td>53.641407</td>\n",
       "    </tr>\n",
       "    <tr>\n",
       "      <th>259</th>\n",
       "      <td>13.33</td>\n",
       "      <td>Test</td>\n",
       "      <td>17.026638</td>\n",
       "    </tr>\n",
       "    <tr>\n",
       "      <th>638</th>\n",
       "      <td>38.21</td>\n",
       "      <td>Test</td>\n",
       "      <td>32.487984</td>\n",
       "    </tr>\n",
       "    <tr>\n",
       "      <th>39</th>\n",
       "      <td>36.25</td>\n",
       "      <td>Test</td>\n",
       "      <td>42.532471</td>\n",
       "    </tr>\n",
       "  </tbody>\n",
       "</table>\n",
       "<p>824 rows × 3 columns</p>\n",
       "</div>"
      ],
      "text/plain": [
       "     strength   Type  Predcited Strength\n",
       "417     12.18  Train                 NaN\n",
       "89      39.30  Train                 NaN\n",
       "958     49.77  Train                 NaN\n",
       "901     29.87  Train                 NaN\n",
       "633     14.20  Train                 NaN\n",
       "..        ...    ...                 ...\n",
       "682     24.05   Test           19.174669\n",
       "464     56.81   Test           53.641407\n",
       "259     13.33   Test           17.026638\n",
       "638     38.21   Test           32.487984\n",
       "39      36.25   Test           42.532471\n",
       "\n",
       "[824 rows x 3 columns]"
      ]
     },
     "execution_count": 57,
     "metadata": {},
     "output_type": "execute_result"
    }
   ],
   "source": [
    "plot"
   ]
  },
  {
   "cell_type": "code",
   "execution_count": 58,
   "metadata": {},
   "outputs": [],
   "source": [
    "plot_s = plot.reset_index()"
   ]
  },
  {
   "cell_type": "code",
   "execution_count": 59,
   "metadata": {},
   "outputs": [
    {
     "data": {
      "image/png": "[encoded data removed]",
      "text/plain": [
       "<Figure size 864x504 with 1 Axes>"
      ]
     },
     "metadata": {
      "needs_background": "light"
     },
     "output_type": "display_data"
    }
   ],
   "source": [
    "plt.figure(figsize=(12,7))\n",
    "plt.plot(plot_s[plot_s.Type == 'Train']['strength'],label='Train')\n",
    "plt.plot(plot_s[plot_s.Type == 'Test']['strength'],label='Test')\n",
    "plt.plot(plot_s['Predcited Strength'],label='Predictions')\n",
    "plt.legend()\n",
    "plt.show()"
   ]
  },
  {
   "cell_type": "code",
   "execution_count": null,
   "metadata": {},
   "outputs": [],
   "source": []
  }
 ],
 "metadata": {
  "kernelspec": {
   "display_name": "Python 3",
   "language": "python",
   "name": "python3"
  },
  "language_info": {
   "codemirror_mode": {
    "name": "ipython",
    "version": 3
   },
   "file_extension": ".py",
   "mimetype": "text/x-python",
   "name": "python",
   "nbconvert_exporter": "python",
   "pygments_lexer": "ipython3",
   "version": "3.8.5"
  }
 },
 "nbformat": 4,
 "nbformat_minor": 2
}
